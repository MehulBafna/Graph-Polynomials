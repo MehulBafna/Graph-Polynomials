from itertools import combinations
from collections import Counter
import numpy as np
import networkx as nx
import matplotlib.pyplot as plt
import json
import math

#For computing proper subsets of a set
def proper_subset(a,b):
    if a.issubset(b):
        if len(a)!=len(b):
            return True
        else:
            return False
    else:
        return False
    
#For computing independence polynomial of null graph, empty graph and simple connected graph
def ind_poly(graph):
    
    unsorted_edges = []
    vertices = []
    edges = []
    
    # For creating a list of vertices and edges
    for node,neighbors in graph.items():
        for i in range(0,len(neighbors)):
            if {node,neighbors[i]} not in edges and {neighbors[i],node} not in edges:
                edges.append({node,neighbors[i]})       
        vertices.append(node) 
        
    # Sorting the vertex set in descending order   
    vertices.sort()
    vertices.reverse()
    
    if len(edges)==0:
        #For Null Graph
        if len(vertices)==0:
            return 1
        #For Empty Graphs
        else:
            L = [0]*(len(vertices)+1)
            for i in range(0,len(vertices)+1):
                L[i]=math.comb(len(vertices),i)
            return np.poly1d(L)
    #For simple connected graphs
    else:
        # Creating a powerset of vertex set in form of nested list tuples
        power_set_list = []
        for i in range(0,len(vertices)+1):
            power_set_list.append(list(combinations(vertices,i)))
          
        # For fetching the tuples and storing in a list from the above nested list power_set_list
        power_set = []
        for i in power_set_list:
            for j in i:
                power_set.append(set(j))
                
        ind_set = []        
        for i in power_set[0:1+len(vertices)+int(len(vertices)*(len(vertices)-1)/2)]:
            if i not in edges:
                ind_set.append(i)
        
        #Computation of independent sets along with computation of independence polynomial        
        ind = []
        ind.append(1)
        ind.append(len(vertices))
        ind.append(int(len(vertices)*(len(vertices)-1)/2)-len(edges))
        
        for i in range(3,len(vertices)):
            m = 0
            for Set in power_set[1+len(vertices)+int(len(vertices)*(len(vertices)-1)/2):len(power_set)]:
                count = 0
                for edge in edges:
                    if proper_subset(edge,Set)==False:
                        count+=1
                        continue
                    else:
                        count = 0
                        break
                if count == len(edges):
                    if len(Set)==i:
                        ind_set.append(Set)
                        m+=1
            if m>0:
                ind.append(m)             
        ind.reverse()
        
        print('\n Independent sets for the graph G is/are - ',ind_set,'\n')
        print(np.poly1d(ind),' is the independence Polynomial for the graph G')
        
        #For drawing the original graph with vertex and edge set
    G = nx.Graph()
    G.add_nodes_from(vertices)
    G.add_edges_from(edges)
    nx.draw(G,with_labels=True)
    plt.title('G = (V,E)')
    plt.show
    return '\n Independence number \u03B1(G) is '+str(len(ind)-1)

if __name__=='__main__':
    #We pass input as dictionary in form of a string. Eg : '{"a":["b"],"b":["a","c"],"c":["b"]}'
    dict_graph = input('Enter the neighborhood of all the graph vertices \n \n ')
    print(ind_poly(json.loads(dict_graph)))
